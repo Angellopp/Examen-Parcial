{
 "cells": [
  {
   "cell_type": "code",
   "execution_count": 1,
   "metadata": {},
   "outputs": [
    {
     "data": {
      "text/plain": [
       "[:pretty_print_instance_variables, :pretty_print, :pretty_print_cycle, :pretty_print_inspect, :to_json, :hash, :singleton_class, :dup, :itself, :methods, :singleton_methods, :protected_methods, :private_methods, :public_methods, :instance_variables, :instance_variable_get, :instance_variable_set, :instance_variable_defined?, :remove_instance_variable, :instance_of?, :kind_of?, :is_a?, :display, :pretty_inspect, :public_send, :class, :tap, :frozen?, :yield_self, :then, :extend, :clone, :<=>, :===, :!~, :method, :public_method, :nil?, :singleton_method, :eql?, :respond_to?, :define_singleton_method, :freeze, :inspect, :object_id, :send, :to_s, :to_enum, :enum_for, :!, :equal?, :__send__, :==, :!=, :__id__, :instance_eval, :instance_exec, :DelegateClass, :Digest, :j, :JSON, :Complex, :sprintf, :format, :Integer, :String, :Array, :Hash, :putc, :puts, :open, :printf, :print, :local_variables, :readlines, :p, :caller, :caller_locations, :readline, :syscall, :Pathname, :jj, :set_trace_func, :warn, :fork, :exit, :raise, :fail, :global_variables, :__method__, :__callee__, :__dir__, :gem_original_require, :eval, :iterator?, :block_given?, :catch, :throw, :loop, :`, :sleep, :select, :rand, :srand, :trace_var, :untrace_var, :pp, :at_exit, :trap, :gem, :load, :require, :require_relative, :autoload, :autoload?, :binding, :exit!, :respond_to_missing?, :system, :exec, :spawn, :abort, :Float, :gets, :proc, :lambda, :test, :initialize_copy, :initialize_clone, :initialize_dup, :Rational, :initialize, :method_missing, :singleton_method_added, :singleton_method_removed, :singleton_method_undefined]"
      ]
     },
     "execution_count": 1,
     "metadata": {},
     "output_type": "execute_result"
    }
   ],
   "source": [
    "class OpenClosed\n",
    "  def self.meths(m)\n",
    "    m.instance_methods + m.private_instance_methods\n",
    "  end\n",
    "\n",
    "  def self.include(*mods)\n",
    "    mods.each do |mod|\n",
    "      check_method_overrides(mod)\n",
    "    end\n",
    "    super\n",
    "  end\n",
    "\n",
    "  def self.prepend(*mods)\n",
    "    mods.each do |mod|\n",
    "      check_method_overrides(mod)\n",
    "    end\n",
    "    super\n",
    "  end\n",
    "\n",
    "  def self.extend(mod)\n",
    "    check_method_overrides(mod)\n",
    "    super\n",
    "  end\n",
    "\n",
    "  def self.method_added(nombre)\n",
    "    if nombre.to_s.start_with?('__') && !@definido\n",
    "      @definido = true\n",
    "      nombre_original = nombre.to_s.sub(/^__/, '').to_sym\n",
    "      if method_defined?(nombre_original)\n",
    "        alias_nombre = :\"__#{nombre_original}\"\n",
    "        alias_method nombre, alias_nombre\n",
    "      end\n",
    "      @definido = false\n",
    "    elsif method_defined?(:\"__#{nombre}\")\n",
    "      alias_nombre = :\"__#{nombre}\"\n",
    "      alias_method nombre, alias_nombre\n",
    "    end\n",
    "  end\n",
    "\n",
    "  meths(self).each do |method|\n",
    "    alias_nombre = :\"__#{method}\"\n",
    "    alias_method alias_nombre, method\n",
    "  end\n",
    "end\n"
   ]
  }
 ],
 "metadata": {
  "kernelspec": {
   "display_name": "Ruby 3.2.2",
   "language": "ruby",
   "name": "ruby"
  },
  "language_info": {
   "file_extension": ".rb",
   "mimetype": "application/x-ruby",
   "name": "ruby",
   "version": "3.2.2"
  }
 },
 "nbformat": 4,
 "nbformat_minor": 2
}
