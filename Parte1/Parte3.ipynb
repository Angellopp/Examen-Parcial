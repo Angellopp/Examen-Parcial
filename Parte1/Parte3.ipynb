{
 "cells": [
  {
   "cell_type": "markdown",
   "metadata": {},
   "source": [
    "(2 puntos) Responde las siguientes preguntas\n",
    "\n",
    "(Escoge dos preguntas)\n",
    "\n",
    "1. Si los métodos de clase son métodos de instancia, ¿qué clase contiene esos métodos de instancia?\n",
    "\n",
    "2. ¿Cuándo es una mala idea implementar una abstracción mediante metaprogramación?\n",
    "\n",
    "3. ¿Siempre es malo utilizar abstracciones en el código de prueba?\n",
    "\n",
    "4. ¿Cuál es el requisito previo más importante antes de comenzar una refactorización?\n",
    "\n",
    "5. ¿Es mejor utilizar un enfoque de desarrollo del lado del cliente o del lado del servidor al diseñar una aplicación que implica la entrada de datos a través de formularios HTML?"
   ]
  },
  {
   "cell_type": "markdown",
   "metadata": {},
   "source": [
    "4. Refactorizar un código significa transformar un código fuente sin alterar sus resultados, asi que si queremos refactorizar, deberiamos tener una conjunto de pruebas que nuestro código original pase satisfactoraimente, para que al momento de refactorizar, podamos testear el nuevo código y garantizar que no generamos nuevos errores en el código.\n",
    "5. Ambos tienen pros y contras y dependerá de los requisitos especificos de la app, primero por el lado del cliente, en este enfoque la mayoria de los procesos se realizan en el navegador web del cliente cuando este accede, lo cual puede generar problemas de compatibilidad; en cambio un enfoque del lado del servidor haria que las request se hagan en el servidor de la aplicación, sería mas seguro pero sería propenso a sobrecargas de request, lo que podria afectar en la velocidad.\n",
    "   "
   ]
  }
 ],
 "metadata": {
  "language_info": {
   "name": "python"
  }
 },
 "nbformat": 4,
 "nbformat_minor": 2
}
