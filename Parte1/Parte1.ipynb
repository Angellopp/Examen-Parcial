{
 "cells": [
  {
   "cell_type": "code",
   "execution_count": 26,
   "metadata": {},
   "outputs": [
    {
     "name": "stdout",
     "output_type": "stream",
     "text": [
      "archivo1.txt: 1: Este es mi primer !Hola mundo\n",
      "archivo1.txt\n"
     ]
    }
   ],
   "source": [
    "def grep(cadena, indicadores, archivos)\n",
    "    archivos_encontrados = []\n",
    "    archivos.each do |arch|\n",
    "        File.foreach(arch).with_index do |linea, indice|\n",
    "            indice += 1  \n",
    "            match = linea.match?(cadena)\n",
    "            \n",
    "            if match.nil? && indicadores.include?('-i')\n",
    "                match = linea.match(/#{cadena}/i)\n",
    "            end\n",
    "\n",
    "            if match.nil? && indicadores.include?('-x')\n",
    "                match = linea.match(/^#{cadena}$/)\n",
    "            end\n",
    "\n",
    "            if indicadores.include?('-v')\n",
    "                match = !match\n",
    "            end\n",
    "            if match\n",
    "                if indicadores.include?('-n')\n",
    "                    puts \"#{arch}: #{indice}: #{linea}\"\n",
    "                else \n",
    "                    puts \"#{arch}: #{linea}\"\n",
    "                end\n",
    "                \n",
    "                archivos_encontrados << arch unless archivos_encontrados.include?(arch)\n",
    "            end\n",
    "        end\n",
    "    end\n",
    "\n",
    "    if indicadores.include?('-l')\n",
    "        puts archivos_encontrados\n",
    "    end\n",
    "end\n",
    "\n",
    "#Ejemplos\n",
    "cadena = 'mundo'\n",
    "indicadores = ['-n', '-l']\n",
    "archivos = ['archivo1.txt', 'archivo2.txt']\n",
    "  \n",
    "  grep(cadena, indicadores, archivos)"
   ]
  },
  {
   "cell_type": "markdown",
   "metadata": {},
   "source": [
    "Primero creamos un arreglo `archivos_encontrados` donde guardaremos los archivos donde hubo un `match` de la cadena que queremos buscar\n",
    "\n",
    "Luego iteramos en cada archivo de archivos `|arch|` para iterar sobre cada línea guardando el índice de la línea `File.foreach(arch).withindex`, que nos servira para el indicador `-n` \n",
    "\n",
    "Entonces hacemos un `match` de la cadena que pasamos a la linea del archivo `arch`\n",
    "\n",
    "Ahora si se encontro el match ~ ``match != nil``, entonces verificamos el indicador `-i, -x`:\n",
    "\n",
    "Para `-i` le agregamos a la expresion regular `i` al final para que no distinga en mayusculas y minusculas\n",
    "\n",
    "Para `-x` le agregamos a la expresion regular `^$` para que sea exactamente la cadema\n",
    "\n",
    "Para `-v` solo negamos nuestro match\n",
    "\n",
    "Una vez visto todas los indicadores restrictivos, implementamos los indicadores de impresion:\n",
    "\n",
    "Si hay `-n` le agregamos el indice a la impresion por defecto\n",
    "\n",
    "y con `-l` imprimos todas los archivos con algun match los cuales ingresmoas con el operador <<\n",
    "\n",
    "\n",
    "\n",
    "\n",
    "\n"
   ]
  }
 ],
 "metadata": {
  "kernelspec": {
   "display_name": "Ruby 3.2.2",
   "language": "ruby",
   "name": "ruby"
  },
  "language_info": {
   "file_extension": ".rb",
   "mimetype": "application/x-ruby",
   "name": "ruby",
   "version": "3.2.2"
  }
 },
 "nbformat": 4,
 "nbformat_minor": 2
}
